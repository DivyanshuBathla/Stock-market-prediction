{
 "cells": [
  {
   "cell_type": "code",
   "execution_count": 7,
   "metadata": {},
   "outputs": [],
   "source": [
    "from telethon.sync import TelegramClient\n",
    "import datetime as dt\n",
    "import pandas as pd\n",
    "import numpy as np\n",
    "import os\n",
    "import sys\n",
    "from asyncio import run\n",
    "pd.pandas.set_option('display.max_rows',None)\n"
   ]
  },
  {
   "cell_type": "code",
   "execution_count": 8,
   "metadata": {},
   "outputs": [],
   "source": [
    "df=pd.DataFrame()\n",
    "df1=pd.DataFrame()"
   ]
  },
  {
   "cell_type": "code",
   "execution_count": 9,
   "metadata": {},
   "outputs": [],
   "source": [
    "api_id=\"16341762\"\n",
    "api_hash=\"4981c35b6d5891af091c4d00e97110d2\""
   ]
  },
  {
   "cell_type": "code",
   "execution_count": 10,
   "metadata": {},
   "outputs": [],
   "source": [
    "grps=['https://t.me/StockResultsSignals']\n"
   ]
  },
  {
   "cell_type": "code",
   "execution_count": 11,
   "metadata": {},
   "outputs": [],
   "source": [
    "i=0"
   ]
  },
  {
   "cell_type": "code",
   "execution_count": 12,
   "metadata": {},
   "outputs": [
    {
     "name": "stdout",
     "output_type": "stream",
     "text": [
      "Signed in successfully as Divyanshu Bathla\n"
     ]
    }
   ],
   "source": [
    "for grp in grps:\n",
    "    async with TelegramClient(\"text\",api_id,api_hash) as client:\n",
    "        async for message in client.iter_messages(grp,offset_date=dt.date.today()-dt.timedelta(6), reverse=True):\n",
    "            #print(message)\n",
    "            ts = pd.to_datetime(str(message.date)) \n",
    "            d = ts.strftime('%Y-%m-%d')\n",
    "            data={\"date\":d,\"text\":message.text}\n",
    "            temp_df=pd.DataFrame(data,index=[i])\n",
    "            \n",
    "            try:\n",
    "                if(temp_df[\"text\"].dtype=='O' and len(temp_df[\"text\"][i])<40):\n",
    "                    continue\n",
    "                else:\n",
    "                    df=df.append(temp_df)\n",
    "                    i=i+1\n",
    "            except:        \n",
    "                    i=i"
   ]
  },
  {
   "cell_type": "code",
   "execution_count": 13,
   "metadata": {},
   "outputs": [
    {
     "data": {
      "text/html": [
       "<div>\n",
       "<style scoped>\n",
       "    .dataframe tbody tr th:only-of-type {\n",
       "        vertical-align: middle;\n",
       "    }\n",
       "\n",
       "    .dataframe tbody tr th {\n",
       "        vertical-align: top;\n",
       "    }\n",
       "\n",
       "    .dataframe thead th {\n",
       "        text-align: right;\n",
       "    }\n",
       "</style>\n",
       "<table border=\"1\" class=\"dataframe\">\n",
       "  <thead>\n",
       "    <tr style=\"text-align: right;\">\n",
       "      <th></th>\n",
       "      <th>date</th>\n",
       "      <th>text</th>\n",
       "    </tr>\n",
       "  </thead>\n",
       "  <tbody>\n",
       "    <tr>\n",
       "      <th>613</th>\n",
       "      <td>2022-11-19</td>\n",
       "      <td>This warranted a long term strategy for Aarti ...</td>\n",
       "    </tr>\n",
       "    <tr>\n",
       "      <th>614</th>\n",
       "      <td>2022-11-19</td>\n",
       "      <td>ROTO PUMP : Received a major domestic purchase...</td>\n",
       "    </tr>\n",
       "    <tr>\n",
       "      <th>615</th>\n",
       "      <td>2022-11-19</td>\n",
       "      <td>RHI MAGNESITA: RHI Magnesita to acquire Indian...</td>\n",
       "    </tr>\n",
       "    <tr>\n",
       "      <th>616</th>\n",
       "      <td>2022-11-19</td>\n",
       "      <td>Proposed IPO comprises a fresh issue of equity...</td>\n",
       "    </tr>\n",
       "    <tr>\n",
       "      <th>617</th>\n",
       "      <td>2022-11-20</td>\n",
       "      <td>FED'S BOSTIC: THE LANDING RATE COULD BE HIGHER...</td>\n",
       "    </tr>\n",
       "  </tbody>\n",
       "</table>\n",
       "</div>"
      ],
      "text/plain": [
       "           date                                               text\n",
       "613  2022-11-19  This warranted a long term strategy for Aarti ...\n",
       "614  2022-11-19  ROTO PUMP : Received a major domestic purchase...\n",
       "615  2022-11-19  RHI MAGNESITA: RHI Magnesita to acquire Indian...\n",
       "616  2022-11-19  Proposed IPO comprises a fresh issue of equity...\n",
       "617  2022-11-20  FED'S BOSTIC: THE LANDING RATE COULD BE HIGHER..."
      ]
     },
     "execution_count": 13,
     "metadata": {},
     "output_type": "execute_result"
    }
   ],
   "source": [
    "df.tail()"
   ]
  },
  {
   "cell_type": "code",
   "execution_count": 14,
   "metadata": {},
   "outputs": [],
   "source": [
    "df = df.dropna(how='any',axis=0)"
   ]
  },
  {
   "cell_type": "code",
   "execution_count": 15,
   "metadata": {},
   "outputs": [
    {
     "data": {
      "text/html": [
       "<div>\n",
       "<style scoped>\n",
       "    .dataframe tbody tr th:only-of-type {\n",
       "        vertical-align: middle;\n",
       "    }\n",
       "\n",
       "    .dataframe tbody tr th {\n",
       "        vertical-align: top;\n",
       "    }\n",
       "\n",
       "    .dataframe thead th {\n",
       "        text-align: right;\n",
       "    }\n",
       "</style>\n",
       "<table border=\"1\" class=\"dataframe\">\n",
       "  <thead>\n",
       "    <tr style=\"text-align: right;\">\n",
       "      <th></th>\n",
       "      <th>date</th>\n",
       "      <th>text</th>\n",
       "    </tr>\n",
       "  </thead>\n",
       "  <tbody>\n",
       "    <tr>\n",
       "      <th>613</th>\n",
       "      <td>2022-11-19</td>\n",
       "      <td>This warranted a long term strategy for Aarti ...</td>\n",
       "    </tr>\n",
       "    <tr>\n",
       "      <th>614</th>\n",
       "      <td>2022-11-19</td>\n",
       "      <td>ROTO PUMP : Received a major domestic purchase...</td>\n",
       "    </tr>\n",
       "    <tr>\n",
       "      <th>615</th>\n",
       "      <td>2022-11-19</td>\n",
       "      <td>RHI MAGNESITA: RHI Magnesita to acquire Indian...</td>\n",
       "    </tr>\n",
       "    <tr>\n",
       "      <th>616</th>\n",
       "      <td>2022-11-19</td>\n",
       "      <td>Proposed IPO comprises a fresh issue of equity...</td>\n",
       "    </tr>\n",
       "    <tr>\n",
       "      <th>617</th>\n",
       "      <td>2022-11-20</td>\n",
       "      <td>FED'S BOSTIC: THE LANDING RATE COULD BE HIGHER...</td>\n",
       "    </tr>\n",
       "  </tbody>\n",
       "</table>\n",
       "</div>"
      ],
      "text/plain": [
       "           date                                               text\n",
       "613  2022-11-19  This warranted a long term strategy for Aarti ...\n",
       "614  2022-11-19  ROTO PUMP : Received a major domestic purchase...\n",
       "615  2022-11-19  RHI MAGNESITA: RHI Magnesita to acquire Indian...\n",
       "616  2022-11-19  Proposed IPO comprises a fresh issue of equity...\n",
       "617  2022-11-20  FED'S BOSTIC: THE LANDING RATE COULD BE HIGHER..."
      ]
     },
     "execution_count": 15,
     "metadata": {},
     "output_type": "execute_result"
    }
   ],
   "source": [
    "df.tail()"
   ]
  },
  {
   "cell_type": "code",
   "execution_count": 16,
   "metadata": {},
   "outputs": [],
   "source": [
    "df.to_csv('messages.csv')"
   ]
  },
  {
   "cell_type": "code",
   "execution_count": null,
   "metadata": {},
   "outputs": [],
   "source": []
  }
 ],
 "metadata": {
  "kernelspec": {
   "display_name": "Python 3.9.7 ('base')",
   "language": "python",
   "name": "python3"
  },
  "language_info": {
   "codemirror_mode": {
    "name": "ipython",
    "version": 3
   },
   "file_extension": ".py",
   "mimetype": "text/x-python",
   "name": "python",
   "nbconvert_exporter": "python",
   "pygments_lexer": "ipython3",
   "version": "3.9.7"
  },
  "orig_nbformat": 4,
  "vscode": {
   "interpreter": {
    "hash": "ad2bdc8ecc057115af97d19610ffacc2b4e99fae6737bb82f5d7fb13d2f2c186"
   }
  }
 },
 "nbformat": 4,
 "nbformat_minor": 2
}
