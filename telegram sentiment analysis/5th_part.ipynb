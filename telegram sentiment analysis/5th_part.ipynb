{
 "cells": [
  {
   "cell_type": "code",
   "execution_count": 21,
   "metadata": {},
   "outputs": [],
   "source": [
    "import pandas as pd\n",
    "import numpy as np"
   ]
  },
  {
   "cell_type": "code",
   "execution_count": 22,
   "metadata": {},
   "outputs": [],
   "source": [
    "chat=pd.read_csv('chat.csv')\n",
    "ticker=pd.read_csv('final_merge.csv')"
   ]
  },
  {
   "cell_type": "code",
   "execution_count": 23,
   "metadata": {},
   "outputs": [],
   "source": [
    "chat_arr=np.array(chat)"
   ]
  },
  {
   "cell_type": "code",
   "execution_count": 24,
   "metadata": {},
   "outputs": [],
   "source": [
    "ticker_arr=np.array(ticker)"
   ]
  },
  {
   "cell_type": "code",
   "execution_count": 25,
   "metadata": {},
   "outputs": [
    {
     "data": {
      "text/plain": [
       "'2022.10.16'"
      ]
     },
     "execution_count": 25,
     "metadata": {},
     "output_type": "execute_result"
    }
   ],
   "source": [
    "chat_arr[0][1]"
   ]
  },
  {
   "cell_type": "code",
   "execution_count": 26,
   "metadata": {},
   "outputs": [
    {
     "data": {
      "text/plain": [
       "'20 Microns Limited'"
      ]
     },
     "execution_count": 26,
     "metadata": {},
     "output_type": "execute_result"
    }
   ],
   "source": [
    "ticker_arr[0][2]"
   ]
  },
  {
   "cell_type": "code",
   "execution_count": 27,
   "metadata": {},
   "outputs": [],
   "source": [
    "res=pd.DataFrame()"
   ]
  },
  {
   "cell_type": "code",
   "execution_count": 28,
   "metadata": {},
   "outputs": [],
   "source": [
    "def find(chat,company):\n",
    "    for i in range(len(chat)):\n",
    "        if(chat[i]==company):\n",
    "            if company=='Adani':\n",
    "                return 2\n",
    "            elif company=='Tata':\n",
    "                return 3\n",
    "            else:\n",
    "                return 1\n",
    "    return 0\n"
   ]
  },
  {
   "cell_type": "code",
   "execution_count": 29,
   "metadata": {},
   "outputs": [
    {
     "data": {
      "text/plain": [
       "'20MICRONS'"
      ]
     },
     "execution_count": 29,
     "metadata": {},
     "output_type": "execute_result"
    }
   ],
   "source": [
    "ticker_arr[0][1]"
   ]
  },
  {
   "cell_type": "code",
   "execution_count": 30,
   "metadata": {},
   "outputs": [],
   "source": [
    "for i in range((chat_arr.shape)[0]):\n",
    "    ans=0\n",
    "    flag=1\n",
    "    for j in range((ticker_arr.shape)[0]):\n",
    "        \n",
    "        ans=find(chat_arr[i][2].split(),ticker_arr[j][1])\n",
    "        if ans>0:\n",
    "          data={\"date\":chat_arr[i][1],\"headlines\":chat_arr[i][2],\"ticker\":ticker_arr[j][1],\"company\":ticker_arr[j][2],}\n",
    "          temp_df=pd.DataFrame(data,index=[i])\n",
    "          res=res.append(temp_df)\n",
    "          flag=0\n",
    "          break\n",
    "    if(flag==0):\n",
    "      continue\n",
    "    for j in range((ticker_arr.shape)[0]):\n",
    "      var=ticker_arr[j][2].split()\n",
    "      if var[0]=='Bank':\n",
    "         ans=find(chat_arr[i][2].split(),(ticker_arr[j][2].split())[2])\n",
    "      else:   \n",
    "         ans=find(chat_arr[i][2].split(),(ticker_arr[j][2].split())[0])\n",
    "      if ans==2:  \n",
    "         ans=0                                                         \n",
    "       \n",
    "         for k in range((ticker_arr.shape)[0]):\n",
    "            var=ticker_arr[k][2].split()\n",
    "            if var[0]=='Adani':\n",
    "               ans=ans=find(chat_arr[i][2].split(),var[1])\n",
    "            if ans>0:\n",
    "               data={\"date\":chat_arr[i][1],\"headlines\":chat_arr[i][2],\"ticker\":ticker_arr[k][1],\"company\":ticker_arr[k][2],}\n",
    "               temp_df=pd.DataFrame(data,index=[i])\n",
    "               res=res.append(temp_df)\n",
    "               break\n",
    "      elif ans==3:  \n",
    "         ans=0                                                         \n",
    "       \n",
    "         for k in range((ticker_arr.shape)[0]):\n",
    "            var=ticker_arr[k][2].split()\n",
    "            if var[0]=='Tata':\n",
    "               ans=ans=find(chat_arr[i][2].split(),var[1])\n",
    "            if ans>0:\n",
    "               data={\"date\":chat_arr[i][1],\"headlines\":chat_arr[i][2],\"ticker\":ticker_arr[k][1],\"company\":ticker_arr[k][2],}\n",
    "               temp_df=pd.DataFrame(data,index=[i])\n",
    "               res=res.append(temp_df)\n",
    "               break\n",
    "\n",
    "      elif ans>0:\n",
    "        data={\"date\":chat_arr[i][1],\"headlines\":chat_arr[i][2],\"ticker\":ticker_arr[j][1],\"company\":ticker_arr[j][2],}\n",
    "        temp_df=pd.DataFrame(data,index=[i])\n",
    "        res=res.append(temp_df)\n",
    "\n",
    "        break"
   ]
  },
  {
   "cell_type": "code",
   "execution_count": 31,
   "metadata": {},
   "outputs": [
    {
     "data": {
      "text/plain": [
       "(506, 4)"
      ]
     },
     "execution_count": 31,
     "metadata": {},
     "output_type": "execute_result"
    }
   ],
   "source": [
    "res.shape"
   ]
  },
  {
   "cell_type": "code",
   "execution_count": 32,
   "metadata": {},
   "outputs": [
    {
     "data": {
      "text/html": [
       "<div>\n",
       "<style scoped>\n",
       "    .dataframe tbody tr th:only-of-type {\n",
       "        vertical-align: middle;\n",
       "    }\n",
       "\n",
       "    .dataframe tbody tr th {\n",
       "        vertical-align: top;\n",
       "    }\n",
       "\n",
       "    .dataframe thead th {\n",
       "        text-align: right;\n",
       "    }\n",
       "</style>\n",
       "<table border=\"1\" class=\"dataframe\">\n",
       "  <thead>\n",
       "    <tr style=\"text-align: right;\">\n",
       "      <th></th>\n",
       "      <th>date</th>\n",
       "      <th>headlines</th>\n",
       "      <th>ticker</th>\n",
       "      <th>company</th>\n",
       "    </tr>\n",
       "  </thead>\n",
       "  <tbody>\n",
       "    <tr>\n",
       "      <th>2</th>\n",
       "      <td>2022.10.16</td>\n",
       "      <td>Government has so far transferred Rs 25 lakh c...</td>\n",
       "      <td>PFOCUS</td>\n",
       "      <td>Prime Focus Limited</td>\n",
       "    </tr>\n",
       "    <tr>\n",
       "      <th>3</th>\n",
       "      <td>2022.10.16</td>\n",
       "      <td>Prime Minister Narendra Modi launches 75 Digit...</td>\n",
       "      <td>PFOCUS</td>\n",
       "      <td>Prime Focus Limited</td>\n",
       "    </tr>\n",
       "    <tr>\n",
       "      <th>4</th>\n",
       "      <td>2022.10.16</td>\n",
       "      <td>IRDAI Increases Penalty On Max Life Insurance ...</td>\n",
       "      <td>AXISBANK</td>\n",
       "      <td>Axis Bank Limited</td>\n",
       "    </tr>\n",
       "    <tr>\n",
       "      <th>5</th>\n",
       "      <td>2022.10.16</td>\n",
       "      <td>GTPL Hathway reports Q2 earnings. (Consolidate...</td>\n",
       "      <td>HATHWAY</td>\n",
       "      <td>Hathway Cable &amp; Datacom Limited</td>\n",
       "    </tr>\n",
       "    <tr>\n",
       "      <th>6</th>\n",
       "      <td>2022.10.16</td>\n",
       "      <td>Dilip Buildcon gets #project worth Rs 702.02 c...</td>\n",
       "      <td>DBL</td>\n",
       "      <td>Dilip Buildcon Limited</td>\n",
       "    </tr>\n",
       "  </tbody>\n",
       "</table>\n",
       "</div>"
      ],
      "text/plain": [
       "         date                                          headlines    ticker  \\\n",
       "2  2022.10.16  Government has so far transferred Rs 25 lakh c...    PFOCUS   \n",
       "3  2022.10.16  Prime Minister Narendra Modi launches 75 Digit...    PFOCUS   \n",
       "4  2022.10.16  IRDAI Increases Penalty On Max Life Insurance ...  AXISBANK   \n",
       "5  2022.10.16  GTPL Hathway reports Q2 earnings. (Consolidate...   HATHWAY   \n",
       "6  2022.10.16  Dilip Buildcon gets #project worth Rs 702.02 c...       DBL   \n",
       "\n",
       "                           company  \n",
       "2              Prime Focus Limited  \n",
       "3              Prime Focus Limited  \n",
       "4                Axis Bank Limited  \n",
       "5  Hathway Cable & Datacom Limited  \n",
       "6           Dilip Buildcon Limited  "
      ]
     },
     "execution_count": 32,
     "metadata": {},
     "output_type": "execute_result"
    }
   ],
   "source": [
    "res.head()"
   ]
  },
  {
   "cell_type": "code",
   "execution_count": 33,
   "metadata": {},
   "outputs": [],
   "source": [
    "ans=(ticker_arr[j][2].split())[0]"
   ]
  },
  {
   "cell_type": "code",
   "execution_count": 34,
   "metadata": {},
   "outputs": [
    {
     "data": {
      "text/plain": [
       "str"
      ]
     },
     "execution_count": 34,
     "metadata": {},
     "output_type": "execute_result"
    }
   ],
   "source": [
    "type(ans)"
   ]
  },
  {
   "cell_type": "code",
   "execution_count": 35,
   "metadata": {},
   "outputs": [],
   "source": [
    "ans=set(chat_arr[0][2].split()).intersection((ticker_arr[28][2].split())[0])"
   ]
  },
  {
   "cell_type": "code",
   "execution_count": 36,
   "metadata": {},
   "outputs": [
    {
     "data": {
      "text/plain": [
       "{'a'}"
      ]
     },
     "execution_count": 36,
     "metadata": {},
     "output_type": "execute_result"
    }
   ],
   "source": [
    "ans"
   ]
  },
  {
   "cell_type": "code",
   "execution_count": 37,
   "metadata": {},
   "outputs": [],
   "source": [
    "ans=(chat_arr[4][2].split())"
   ]
  },
  {
   "cell_type": "code",
   "execution_count": 38,
   "metadata": {},
   "outputs": [
    {
     "data": {
      "text/plain": [
       "6"
      ]
     },
     "execution_count": 38,
     "metadata": {},
     "output_type": "execute_result"
    }
   ],
   "source": [
    "len(ticker_arr[28][2].split()[0])"
   ]
  },
  {
   "cell_type": "code",
   "execution_count": 39,
   "metadata": {},
   "outputs": [],
   "source": [
    "if(ans[2]=='Bankbaroda'):\n",
    "    print(y)"
   ]
  },
  {
   "cell_type": "code",
   "execution_count": 40,
   "metadata": {},
   "outputs": [],
   "source": [
    "res.to_csv('identification.csv')"
   ]
  },
  {
   "cell_type": "code",
   "execution_count": null,
   "metadata": {},
   "outputs": [],
   "source": []
  },
  {
   "cell_type": "code",
   "execution_count": null,
   "metadata": {},
   "outputs": [],
   "source": []
  }
 ],
 "metadata": {
  "kernelspec": {
   "display_name": "Python 3.9.7 ('base')",
   "language": "python",
   "name": "python3"
  },
  "language_info": {
   "codemirror_mode": {
    "name": "ipython",
    "version": 3
   },
   "file_extension": ".py",
   "mimetype": "text/x-python",
   "name": "python",
   "nbconvert_exporter": "python",
   "pygments_lexer": "ipython3",
   "version": "3.9.7"
  },
  "orig_nbformat": 4,
  "vscode": {
   "interpreter": {
    "hash": "ad2bdc8ecc057115af97d19610ffacc2b4e99fae6737bb82f5d7fb13d2f2c186"
   }
  }
 },
 "nbformat": 4,
 "nbformat_minor": 2
}
